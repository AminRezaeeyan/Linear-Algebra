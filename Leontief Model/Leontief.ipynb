{
 "cells": [
  {
   "cell_type": "markdown",
   "metadata": {},
   "source": [
    "# Leontief model definition\n",
    "Input-output analysis is a form of macroeconomic analysis based on the interdependencies between different economic sectors or industries.\n",
    "As you know the ecconomy divides into sectors where each sector produces goods and services not only for itself but also for other sectors so each sector has an effect on others.\n",
    "This model helps us to find out how much goods do we need to produce in order to meet the outside and intermidiate demands.\n",
    "The leontief model is branched into two submodels : closed and open.\n",
    "- open model : some production is consumed by industries, and the rest is consumed by external bodies.\n",
    "- closed model : all production is consumed by industries.\n",
    "\n",
    "the equation for the open model is x = Cx + d, where d represents he demand matrix. In a closed economy, the equation is x = Cx, which means the total input equals the total output."
   ]
  },
  {
   "cell_type": "markdown",
   "metadata": {},
   "source": [
    "# Problem description\n",
    "\n",
    "Suppose an open economy consists of Coal, Electric, and Steel sectors, and the output of each sector is distributed among the various sectors as shown in the table below,\n",
    "where the entries in a column represent the fractional parts of a sectors total output.\n",
    "\n",
    "<img src=\"table.jpg\" alt = \"simple economy\" width=\"400\"/>\n",
    "\n",
    "suppose that the open sector has a demand for $7900 worth of coal, $3950 worth of Electric and $1975 worth of steel.\n",
    "- a) Can the economy meet the demand?\n",
    "- b) If so, find a production vector x that will meet it exactly.\n"
   ]
  },
  {
   "attachments": {},
   "cell_type": "markdown",
   "metadata": {},
   "source": [
    "### 0. Libraries"
   ]
  },
  {
   "cell_type": "code",
   "metadata": {
    "is_executing": true
   },
   "source": [
    "import numpy as np"
   ],
   "outputs": [],
   "execution_count": null
  },
  {
   "attachments": {},
   "cell_type": "markdown",
   "metadata": {},
   "source": [
    "## 1. Deriving consumption matrix\n",
    " Consumption matrix C : this matrix's columns are the inputs required for each output.\n",
    " \n"
   ]
  },
  {
   "cell_type": "code",
   "metadata": {},
   "source": [
    "Consumption = np.array([[0.5,0.1,0.1]\n",
    "              ,[0.2,0.5,0.3]\n",
    "              ,[0.1,0.3,0.4]])"
   ],
   "outputs": [],
   "execution_count": null
  },
  {
   "attachments": {},
   "cell_type": "markdown",
   "metadata": {},
   "source": [
    "## 2. Finding the echelon form of the augmented matrix\n",
    "\n",
    "<p>\n",
    "  In this part, we need to use the function defined in the next section to find the echelon form of the augmented matrix [I - C | d]. The column vector <i>d</i> is called the outside demand vector. Since the product-producing sectors consume some of their own output, the monetary value of their output must cover both their own needs and the outside demand.\n",
    "</p>\n",
    "\n",
    "<p>\n",
    "  The column vector <i>x</i>, which contains the monetary values as successive components, is called the production vector for the economy. By multiplying <i>x</i> by the consumption matrix <i>C</i>, we obtain <i>Cx</i>, the portion of the production vector that will be consumed by the productive sectors. This vector <i>Cx</i> is referred to as the intermediate demand vector for the economy.\n",
    "</p>\n",
    "\n",
    "<p>\n",
    "  Once the intermediate demand is met, the portion of the production that remains to satisfy the outside demand is <i>x - Cx</i>. Therefore, <i>x</i> must satisfy the equation:\n",
    "</p>\n",
    "\n",
    "<p style=\"text-align: center; font-size: 24px;\">\n",
    "  x - Cx = d\n",
    "</p>\n",
    "\n",
    "<p>\n",
    "  This equation can be rewritten in a more convenient form:\n",
    "</p>\n",
    "\n",
    "<p style=\"text-align: center; font-size: 24px;\">\n",
    "  (I - C)x = d\n",
    "</p>\n",
    "\n",
    "<p>\n",
    "  The matrix <i>I - C</i> is called the Leontief matrix, and the equation <i>(I - C)x = d</i> is known as the Leontief equation.\n",
    "</p>\n"
   ]
  },
  {
   "attachments": {},
   "cell_type": "markdown",
   "metadata": {},
   "source": [
    "### 2.1. Row Echelon Form\n",
    "concat the I-C matrix and d vector and give the augmented matrix to the function."
   ]
  },
  {
   "cell_type": "code",
   "metadata": {},
   "source": [
    "def row_echelon(A):\n",
    "    rows, cols = A.shape\n",
    "    current_row = 0\n",
    "\n",
    "    for col in range(cols):\n",
    "        # Check for a pivot in the current column\n",
    "        for r in range(current_row, rows):\n",
    "            if A[r, col] != 0:\n",
    "                # Swap rows if we find a non-zero pivot\n",
    "                A[[current_row, r]] = A[[r, current_row]]\n",
    "                break\n",
    "        else:  # No pivot found in this column (column is all-zero), move to the next column\n",
    "            continue\n",
    "\n",
    "        # Make entries below the pivot 0 by row operations\n",
    "        for r in range(current_row + 1, rows):\n",
    "            if A[r, col] != 0:\n",
    "                A[r] -= A[r, col] / A[current_row, col] * A[current_row]  # Row operation to make the entry 0\n",
    "\n",
    "        current_row += 1  # Move to the next row for the next pivot\n",
    "\n",
    "    return A\n",
    "\n",
    "   "
   ],
   "outputs": [],
   "execution_count": null
  },
  {
   "cell_type": "code",
   "metadata": {},
   "source": [
    "#e.g.\n",
    "C = np.array([[0.5,0.1,0.1]\n",
    "              ,[0.2,0.5,0.3]\n",
    "              ,[0.1,0.3,0.4]])\n",
    "d = np.array([[7900]\n",
    "              ,[3950]\n",
    "              ,[1975]])\n",
    "A = np.array([[0.5,0.9,0.9,7900]\n",
    "              ,[0.8,0.5,0.7,3950]\n",
    "              ,[0.9,0.7,0.6,1975]])\n",
    "print(row_echelon(A))\n",
    "\"\"\"Notice that any true row echelon form is acceptable.Row echelon form (REF) of a matrix isn't unique\"\"\""
   ],
   "outputs": [],
   "execution_count": null
  },
  {
   "attachments": {},
   "cell_type": "markdown",
   "metadata": {},
   "source": [
    "### 2.2. Reduce Row Echelon Form"
   ]
  },
  {
   "cell_type": "code",
   "metadata": {},
   "source": [
    "def reduce(A):\n",
    "    rows, cols = A.shape\n",
    "    for r in range(rows - 1, -1, -1):  # iterate from last row to first one\n",
    "        for c in range(cols):\n",
    "            if A[r, c] != 0:  # pivot found\n",
    "                A[r] /= A[r, c]\n",
    "                for row in range(r - 1, -1, -1):  # make the entries above the pivot 0\n",
    "                    if A[row, c] != 0:\n",
    "                        A[row] -= A[r] * A[row, c]\n",
    "                break  # move to the row above\n",
    "    return A"
   ],
   "outputs": [],
   "execution_count": null
  },
  {
   "cell_type": "code",
   "metadata": {},
   "source": [
    "# e.g.\n",
    "B = np.array([[1,-0.2,-0.2,15800]\n",
    "                ,[0,23,-17,355500]\n",
    "                ,[0,0,1,24750]])\n",
    "print(reduce(B))\n",
    "\"\"\"Notice that row reduced echelon form (RREF) of a matrix is unique\"\"\"\n"
   ],
   "outputs": [],
   "execution_count": null
  },
  {
   "cell_type": "markdown",
   "metadata": {},
   "source": [
    "## 3. The solution\n",
    "In this section we find the production vector x that covers the intermediate and outside economical demand"
   ]
  },
  {
   "attachments": {},
   "cell_type": "markdown",
   "metadata": {},
   "source": [
    "### 3.1. Existence of the Solution\n",
    "Based on the reduced form of the augmented matrix and prior to finding the answer, make sure the solution exists!"
   ]
  },
  {
   "cell_type": "code",
   "metadata": {},
   "source": [
    "def is_consistent(A):\n",
    "    row, col = A.shape\n",
    "\n",
    "    # iterate over the rows from bottom\n",
    "    for r in range(row - 1, -1, -1):\n",
    "        # Check if the row contains only zeros in the coefficient part but non-zero in the augmented part\n",
    "        if not all(A[r, :-1] == 0):\n",
    "            return True\n",
    "        if A[r, -1] != 0:\n",
    "            return False\n",
    "\n",
    "    return True  # No inconsistencies found\n"
   ],
   "outputs": [],
   "execution_count": null
  },
  {
   "cell_type": "code",
   "metadata": {
    "collapsed": false
   },
   "source": [
    "#e.g.\n",
    "print(is_consistent(B))"
   ],
   "outputs": [],
   "execution_count": null
  },
  {
   "attachments": {},
   "cell_type": "markdown",
   "metadata": {},
   "source": [
    "### 3.2. Finding a Solution\n",
    "If the system has a solution, find and return it.\n",
    "If the system has infinite solutions, return only one solution. (If there are some free variables assume them as '0')"
   ]
  },
  {
   "cell_type": "code",
   "metadata": {},
   "source": [
    "def solve(A):\n",
    "    row_reduced_A = reduce(row_echelon(A))\n",
    "    if not is_consistent(row_reduced_A):\n",
    "        return \"this system has no answer\"\n",
    "    \n",
    "    row, col = A.shape\n",
    "    num_variables = col - 1  # matrix is augmented\n",
    "    solution = [0] * num_variables  # default value for free variables is 0\n",
    "    for r in range(row):\n",
    "        pivot_index = -1  # find the index of pivot in each row\n",
    "        for c in range(col):\n",
    "            if A[r, c] != 0:\n",
    "                pivot_index = c\n",
    "                break\n",
    "        \n",
    "        if pivot_index == -1:  # if current row doesn't have a pivot, move to the next column\n",
    "            continue\n",
    "        \n",
    "        solution[pivot_index] = A[r, -1]\n",
    "    solution_text = []\n",
    "    for index, s in enumerate(solution):\n",
    "        solution_text.append(f'x{index + 1} = {s}')\n",
    "    return ' , '.join(solution_text)\n",
    "    \n",
    "    "
   ],
   "outputs": [],
   "execution_count": null
  },
  {
   "cell_type": "code",
   "metadata": {},
   "source": [
    "#e.g.\n",
    "B = np.array([[ 1, 0, 0, 27500],\n",
    "              [ 0, 1, 0, 33750],\n",
    "              [ 0, 0, 1, 24750]], dtype=float)\n",
    "print(solve(B))\n",
    "\n",
    "A = np.array([[1,2,-1,0],\n",
    "              [3,6,0,4],\n",
    "              [2,4,1,3]], dtype=float)\n",
    "print(solve(A))\n",
    "\n",
    "D = np.array([[1,2,3],\n",
    "              [4,5,6],\n",
    "              [7,8,9]], dtype=float)\n",
    "print(solve(D))\n",
    "\n",
    "\n",
    "E = np.array([[1,2,3,4],\n",
    "              [0,1,2,5]], dtype=float)\n",
    "print(solve(E))"
   ],
   "outputs": [],
   "execution_count": null
  }
 ],
 "metadata": {
  "kernelspec": {
   "display_name": "Python 3",
   "language": "python",
   "name": "python3"
  },
  "language_info": {
   "codemirror_mode": {
    "name": "ipython",
    "version": 3
   },
   "file_extension": ".py",
   "mimetype": "text/x-python",
   "name": "python",
   "nbconvert_exporter": "python",
   "pygments_lexer": "ipython3",
   "version": "3.12.3"
  },
  "orig_nbformat": 4
 },
 "nbformat": 4,
 "nbformat_minor": 2
}
